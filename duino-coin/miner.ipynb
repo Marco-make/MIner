# Celda 1: Clonar el repositorio
!git clone https://github.com/Marco-make/MIner.git

# Celda 2: Cambiar al directorio del repositorio
%cd duino-coin

# Celda 3: Ejecutar el script PC_Miner.py
!python3 PC_Miner.py
